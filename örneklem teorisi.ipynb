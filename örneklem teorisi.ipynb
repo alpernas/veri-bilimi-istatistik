{
 "cells": [
  {
   "cell_type": "markdown",
   "id": "13da603d",
   "metadata": {},
   "source": [
    "# Örnek Teorisi"
   ]
  },
  {
   "cell_type": "code",
   "execution_count": 2,
   "id": "abf3dc33",
   "metadata": {},
   "outputs": [],
   "source": [
    "#20 bin kişilik bir ilçedeki kişilerden 100 kişiyi örneklem seçip yaş ortalamasını tahmin etmek istiyoruz"
   ]
  },
  {
   "cell_type": "code",
   "execution_count": 3,
   "id": "d0823e9c",
   "metadata": {},
   "outputs": [],
   "source": [
    "import numpy as np"
   ]
  },
  {
   "cell_type": "code",
   "execution_count": 4,
   "id": "05738e77",
   "metadata": {},
   "outputs": [],
   "source": [
    "popülasyon=np.random.randint(0,80,20000)#rastgele 0 ile 80 arasında yaş atama işlemi yaptık"
   ]
  },
  {
   "cell_type": "code",
   "execution_count": 7,
   "id": "89848e6b",
   "metadata": {},
   "outputs": [
    {
     "data": {
      "text/plain": [
       "array([75, 22, 35, 61, 70, 47, 62, 75, 76,  9])"
      ]
     },
     "execution_count": 7,
     "metadata": {},
     "output_type": "execute_result"
    }
   ],
   "source": [
    "popülasyon[0:10]"
   ]
  },
  {
   "cell_type": "code",
   "execution_count": 8,
   "id": "1a8e5127",
   "metadata": {},
   "outputs": [],
   "source": [
    "#örneklem çekimi"
   ]
  },
  {
   "cell_type": "code",
   "execution_count": 9,
   "id": "60430a21",
   "metadata": {},
   "outputs": [],
   "source": [
    "np.random.seed(115)\n",
    "örneklem=np.random.choice(a=popülasyon,size=100)#bu popülasyon içerisinden rastgele 100 örneklem seçtik"
   ]
  },
  {
   "cell_type": "code",
   "execution_count": 11,
   "id": "7d8b9203",
   "metadata": {},
   "outputs": [
    {
     "data": {
      "text/plain": [
       "array([52, 75, 68, 34, 56, 49, 47, 68, 40, 32])"
      ]
     },
     "execution_count": 11,
     "metadata": {},
     "output_type": "execute_result"
    }
   ],
   "source": [
    "örneklem[0:10]"
   ]
  },
  {
   "cell_type": "code",
   "execution_count": 12,
   "id": "b9884e14",
   "metadata": {},
   "outputs": [
    {
     "data": {
      "text/plain": [
       "36.65"
      ]
     },
     "execution_count": 12,
     "metadata": {},
     "output_type": "execute_result"
    }
   ],
   "source": [
    "örneklem.mean()"
   ]
  },
  {
   "cell_type": "code",
   "execution_count": 13,
   "id": "cb5fb029",
   "metadata": {},
   "outputs": [
    {
     "data": {
      "text/plain": [
       "39.6311"
      ]
     },
     "execution_count": 13,
     "metadata": {},
     "output_type": "execute_result"
    }
   ],
   "source": [
    "popülasyon.mean()"
   ]
  },
  {
   "cell_type": "code",
   "execution_count": 14,
   "id": "3a3ab15c",
   "metadata": {},
   "outputs": [],
   "source": [
    "#örneklem dağılımı"
   ]
  },
  {
   "cell_type": "code",
   "execution_count": 15,
   "id": "f991e8be",
   "metadata": {},
   "outputs": [],
   "source": [
    "orn1=np.random.choice(a=popülasyon,size=100)\n",
    "orn2=np.random.choice(a=popülasyon,size=100)\n",
    "orn3=np.random.choice(a=popülasyon,size=100)\n",
    "orn4=np.random.choice(a=popülasyon,size=100)\n",
    "orn5=np.random.choice(a=popülasyon,size=100)\n",
    "orn6=np.random.choice(a=popülasyon,size=100)\n",
    "orn7=np.random.choice(a=popülasyon,size=100)\n",
    "orn8=np.random.choice(a=popülasyon,size=100)\n",
    "orn9=np.random.choice(a=popülasyon,size=100)\n",
    "orn10=np.random.choice(a=popülasyon,size=100)\n"
   ]
  },
  {
   "cell_type": "code",
   "execution_count": 16,
   "id": "335b8d61",
   "metadata": {},
   "outputs": [
    {
     "data": {
      "text/plain": [
       "41.208999999999996"
      ]
     },
     "execution_count": 16,
     "metadata": {},
     "output_type": "execute_result"
    }
   ],
   "source": [
    "(orn1.mean()+orn2.mean()+orn3.mean()+orn4.mean()+orn5.mean()+orn6.mean()+orn7.mean()+orn8.mean()+orn9.mean()+orn10.mean())/10\n",
    "#her bir orneklemin ortalamsının ortalamsını alıp en yakın degeri bulmaya çalıştık"
   ]
  },
  {
   "cell_type": "code",
   "execution_count": null,
   "id": "6e57867a",
   "metadata": {},
   "outputs": [],
   "source": []
  }
 ],
 "metadata": {
  "kernelspec": {
   "display_name": "Python 3 (ipykernel)",
   "language": "python",
   "name": "python3"
  },
  "language_info": {
   "codemirror_mode": {
    "name": "ipython",
    "version": 3
   },
   "file_extension": ".py",
   "mimetype": "text/x-python",
   "name": "python",
   "nbconvert_exporter": "python",
   "pygments_lexer": "ipython3",
   "version": "3.11.5"
  }
 },
 "nbformat": 4,
 "nbformat_minor": 5
}
