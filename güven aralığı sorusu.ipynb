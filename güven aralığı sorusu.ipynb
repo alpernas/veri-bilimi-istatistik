{
 "cells": [
  {
   "cell_type": "markdown",
   "id": "0567dc97",
   "metadata": {},
   "source": [
    "# GÜVEN ARALIĞI"
   ]
  },
  {
   "cell_type": "markdown",
   "id": "0e54c053",
   "metadata": {},
   "source": [
    "iş uygulaması:Fiyat stratejisi karar destek sistemi"
   ]
  },
  {
   "cell_type": "markdown",
   "id": "af7719b5",
   "metadata": {},
   "source": [
    ".PROBLEM:\n",
    "CEO fiyat belirleme konusunda bilimsel bir dayanak ve esneklik isteniyor.\n",
    "x=ort,z=1,96,s=std,n=veri sayısı\n",
    "Gvn aralık form.=x-+z*s/kök n"
   ]
  },
  {
   "cell_type": "code",
   "execution_count": 5,
   "id": "beb60f4e",
   "metadata": {},
   "outputs": [],
   "source": [
    "import numpy as np\n",
    "fiyatlar=np.random.randint(10,110,1000)\n",
    "import statsmodels.stats.api as sms"
   ]
  },
  {
   "cell_type": "code",
   "execution_count": 6,
   "id": "0f38c535",
   "metadata": {},
   "outputs": [
    {
     "data": {
      "text/plain": [
       "58.9"
      ]
     },
     "execution_count": 6,
     "metadata": {},
     "output_type": "execute_result"
    }
   ],
   "source": [
    "fiyatlar.mean()"
   ]
  },
  {
   "cell_type": "code",
   "execution_count": 7,
   "id": "2a3f06ec",
   "metadata": {},
   "outputs": [
    {
     "data": {
      "text/plain": [
       "28.480976106868248"
      ]
     },
     "execution_count": 7,
     "metadata": {},
     "output_type": "execute_result"
    }
   ],
   "source": [
    "fiyatlar.std()"
   ]
  },
  {
   "cell_type": "code",
   "execution_count": 8,
   "id": "8d997c69",
   "metadata": {},
   "outputs": [
    {
     "data": {
      "text/plain": [
       "(57.131737628592006, 60.66826237140799)"
      ]
     },
     "execution_count": 8,
     "metadata": {},
     "output_type": "execute_result"
    }
   ],
   "source": [
    "#güven aralığı %95 güvenirlik ile 57- 61 arasındadır \n",
    "sms.DescrStatsW(fiyatlar).tconfint_mean()"
   ]
  },
  {
   "cell_type": "code",
   "execution_count": null,
   "id": "e56cadbb",
   "metadata": {},
   "outputs": [],
   "source": []
  }
 ],
 "metadata": {
  "kernelspec": {
   "display_name": "Python 3 (ipykernel)",
   "language": "python",
   "name": "python3"
  },
  "language_info": {
   "codemirror_mode": {
    "name": "ipython",
    "version": 3
   },
   "file_extension": ".py",
   "mimetype": "text/x-python",
   "name": "python",
   "nbconvert_exporter": "python",
   "pygments_lexer": "ipython3",
   "version": "3.11.5"
  }
 },
 "nbformat": 4,
 "nbformat_minor": 5
}
