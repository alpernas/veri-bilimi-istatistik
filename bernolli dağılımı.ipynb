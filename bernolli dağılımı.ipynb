{
 "cells": [
  {
   "cell_type": "markdown",
   "id": "f2cb3b42",
   "metadata": {},
   "source": [
    "# OLASILIK DAĞILIMLARI "
   ]
  },
  {
   "cell_type": "markdown",
   "id": "19440e2e",
   "metadata": {},
   "source": [
    "Bernolli Dağılımı\n",
    "${\\displaystyle f(k;p)=p^{k}(1-p)^{1-k}\\quad {\\text{for }}k\\in \\{0,1\\}}$\n",
    "\n",
    "\n",
    "${\\displaystyle \\operatorname {E} \\left(X\\right)=p}$\n",
    "\n",
    "$\\operatorname {Var} [X]=pq=p(1-p)$"
   ]
  },
  {
   "cell_type": "code",
   "execution_count": 1,
   "id": "320ed974",
   "metadata": {},
   "outputs": [],
   "source": [
    "from scipy.stats import bernoulli"
   ]
  },
  {
   "cell_type": "code",
   "execution_count": 2,
   "id": "7825f6fa",
   "metadata": {},
   "outputs": [],
   "source": [
    "p=0.6\n",
    "#p degeri 2 farklı deger oranı alır"
   ]
  },
  {
   "cell_type": "code",
   "execution_count": 3,
   "id": "04a88883",
   "metadata": {},
   "outputs": [],
   "source": [
    "rv=bernoulli(p)"
   ]
  },
  {
   "cell_type": "code",
   "execution_count": 4,
   "id": "fd1d5da5",
   "metadata": {},
   "outputs": [
    {
     "data": {
      "text/plain": [
       "0.6"
      ]
     },
     "execution_count": 4,
     "metadata": {},
     "output_type": "execute_result"
    }
   ],
   "source": [
    "rv.pmf(k=1)\n",
    "#tura gelme olasılığı"
   ]
  },
  {
   "cell_type": "code",
   "execution_count": null,
   "id": "2cdde811",
   "metadata": {},
   "outputs": [],
   "source": []
  }
 ],
 "metadata": {
  "kernelspec": {
   "display_name": "Python 3 (ipykernel)",
   "language": "python",
   "name": "python3"
  },
  "language_info": {
   "codemirror_mode": {
    "name": "ipython",
    "version": 3
   },
   "file_extension": ".py",
   "mimetype": "text/x-python",
   "name": "python",
   "nbconvert_exporter": "python",
   "pygments_lexer": "ipython3",
   "version": "3.11.5"
  }
 },
 "nbformat": 4,
 "nbformat_minor": 5
}
